{
 "cells": [
  {
   "cell_type": "code",
   "execution_count": 1,
   "metadata": {},
   "outputs": [],
   "source": [
    "iphone<-read.csv('iPhone.csv')"
   ]
  },
  {
   "cell_type": "code",
   "execution_count": 2,
   "metadata": {},
   "outputs": [
    {
     "data": {
      "text/html": [
       "<table>\n",
       "<thead><tr><th scope=col>Seller.ID</th><th scope=col>Price</th><th scope=col>NumBids</th><th scope=col>SellRating</th></tr></thead>\n",
       "<tbody>\n",
       "\t<tr><td>321shannonb</td><td>405.00     </td><td>16         </td><td> 86        </td></tr>\n",
       "\t<tr><td>321shannonb</td><td>460.01     </td><td>16         </td><td> 86        </td></tr>\n",
       "\t<tr><td>321shannonb</td><td>440.00     </td><td>18         </td><td> 86        </td></tr>\n",
       "\t<tr><td>321shannonb</td><td>450.00     </td><td>18         </td><td> 86        </td></tr>\n",
       "\t<tr><td>321shannonb</td><td>455.00     </td><td>23         </td><td> 86        </td></tr>\n",
       "\t<tr><td>321shannonb</td><td>485.00     </td><td>24         </td><td> 86        </td></tr>\n",
       "\t<tr><td>321shannonb</td><td>420.00     </td><td>25         </td><td> 86        </td></tr>\n",
       "\t<tr><td>321shannonb</td><td>460.00     </td><td>28         </td><td> 86        </td></tr>\n",
       "\t<tr><td>321shannonb</td><td>440.00     </td><td>32         </td><td> 86        </td></tr>\n",
       "\t<tr><td>321shannonb</td><td>470.00     </td><td>33         </td><td> 86        </td></tr>\n",
       "\t<tr><td>321shannonb</td><td>455.00     </td><td>17         </td><td> 86        </td></tr>\n",
       "\t<tr><td>321shannonb</td><td>450.00     </td><td>18         </td><td> 86        </td></tr>\n",
       "\t<tr><td>321shannonb</td><td>455.00     </td><td>18         </td><td> 86        </td></tr>\n",
       "\t<tr><td>321shannonb</td><td>460.00     </td><td>19         </td><td> 86        </td></tr>\n",
       "\t<tr><td>321shannonb</td><td>465.00     </td><td>20         </td><td> 86        </td></tr>\n",
       "\t<tr><td>321shannonb</td><td>450.00     </td><td>26         </td><td> 86        </td></tr>\n",
       "\t<tr><td>321shannonb</td><td>465.00     </td><td>27         </td><td> 86        </td></tr>\n",
       "\t<tr><td>321shannonb</td><td>465.00     </td><td>29         </td><td> 86        </td></tr>\n",
       "\t<tr><td>321shannonb</td><td>470.00     </td><td>33         </td><td> 86        </td></tr>\n",
       "\t<tr><td>321shannonb</td><td>470.00     </td><td>33         </td><td> 86        </td></tr>\n",
       "\t<tr><td>911_cenner </td><td>520.00     </td><td>18         </td><td>838        </td></tr>\n",
       "\t<tr><td>911_cenner </td><td>500.00     </td><td>31         </td><td>838        </td></tr>\n",
       "\t<tr><td>911_cenner </td><td>481.00     </td><td>32         </td><td>838        </td></tr>\n",
       "\t<tr><td>911_cenner </td><td>471.00     </td><td>35         </td><td>838        </td></tr>\n",
       "\t<tr><td>911_cenner </td><td>497.00     </td><td>40         </td><td>838        </td></tr>\n",
       "\t<tr><td>911_cenner </td><td>500.00     </td><td>40         </td><td>838        </td></tr>\n",
       "\t<tr><td>911_cenner </td><td>510.00     </td><td>43         </td><td>838        </td></tr>\n",
       "\t<tr><td>911_cenner </td><td>480.00     </td><td>45         </td><td>838        </td></tr>\n",
       "\t<tr><td>abe-123    </td><td>437.00     </td><td>32         </td><td>169        </td></tr>\n",
       "\t<tr><td>abe-123    </td><td>495.00     </td><td>33         </td><td>169        </td></tr>\n",
       "\t<tr><td>⋮</td><td>⋮</td><td>⋮</td><td>⋮</td></tr>\n",
       "\t<tr><td>yaylabeyim  </td><td>490         </td><td>22          </td><td>189         </td></tr>\n",
       "\t<tr><td>yaylabeyim  </td><td>461         </td><td>23          </td><td>189         </td></tr>\n",
       "\t<tr><td>yaylabeyim  </td><td>430         </td><td>24          </td><td>189         </td></tr>\n",
       "\t<tr><td>yaylabeyim  </td><td>485         </td><td>25          </td><td>189         </td></tr>\n",
       "\t<tr><td>yaylabeyim  </td><td>490         </td><td>26          </td><td>189         </td></tr>\n",
       "\t<tr><td>yaylabeyim  </td><td>455         </td><td>27          </td><td>189         </td></tr>\n",
       "\t<tr><td>yaylabeyim  </td><td>495         </td><td>27          </td><td>189         </td></tr>\n",
       "\t<tr><td>yaylabeyim  </td><td>460         </td><td>28          </td><td>189         </td></tr>\n",
       "\t<tr><td>yaylabeyim  </td><td>465         </td><td>28          </td><td>189         </td></tr>\n",
       "\t<tr><td>yaylabeyim  </td><td>450         </td><td>30          </td><td>189         </td></tr>\n",
       "\t<tr><td>yaylabeyim  </td><td>460         </td><td>30          </td><td>189         </td></tr>\n",
       "\t<tr><td>yaylabeyim  </td><td>485         </td><td>30          </td><td>189         </td></tr>\n",
       "\t<tr><td>yaylabeyim  </td><td>480         </td><td>31          </td><td>189         </td></tr>\n",
       "\t<tr><td>yaylabeyim  </td><td>488         </td><td>31          </td><td>189         </td></tr>\n",
       "\t<tr><td>yaylabeyim  </td><td>470         </td><td>32          </td><td>189         </td></tr>\n",
       "\t<tr><td>yaylabeyim  </td><td>475         </td><td>32          </td><td>189         </td></tr>\n",
       "\t<tr><td>yaylabeyim  </td><td>502         </td><td>32          </td><td>189         </td></tr>\n",
       "\t<tr><td>yaylabeyim  </td><td>443         </td><td>34          </td><td>189         </td></tr>\n",
       "\t<tr><td>yaylabeyim  </td><td>450         </td><td>36          </td><td>189         </td></tr>\n",
       "\t<tr><td>yaylabeyim  </td><td>465         </td><td>38          </td><td>189         </td></tr>\n",
       "\t<tr><td>yaylabeyim  </td><td>425         </td><td>39          </td><td>189         </td></tr>\n",
       "\t<tr><td>yaylabeyim  </td><td>471         </td><td>39          </td><td>189         </td></tr>\n",
       "\t<tr><td>zornlargent </td><td>451         </td><td>18          </td><td>225         </td></tr>\n",
       "\t<tr><td>zornlargent </td><td>457         </td><td>24          </td><td>225         </td></tr>\n",
       "\t<tr><td>zornlargent </td><td>511         </td><td>25          </td><td>225         </td></tr>\n",
       "\t<tr><td>zozocellular</td><td>427         </td><td>21          </td><td>442         </td></tr>\n",
       "\t<tr><td>zozocellular</td><td>495         </td><td>22          </td><td>442         </td></tr>\n",
       "\t<tr><td>zozocellular</td><td>480         </td><td>23          </td><td>442         </td></tr>\n",
       "\t<tr><td>zozocellular</td><td>445         </td><td>32          </td><td>442         </td></tr>\n",
       "\t<tr><td>zozocellular</td><td>530         </td><td>34          </td><td>442         </td></tr>\n",
       "</tbody>\n",
       "</table>\n"
      ],
      "text/latex": [
       "\\begin{tabular}{r|llll}\n",
       " Seller.ID & Price & NumBids & SellRating\\\\\n",
       "\\hline\n",
       "\t 321shannonb & 405.00      & 16          &  86        \\\\\n",
       "\t 321shannonb & 460.01      & 16          &  86        \\\\\n",
       "\t 321shannonb & 440.00      & 18          &  86        \\\\\n",
       "\t 321shannonb & 450.00      & 18          &  86        \\\\\n",
       "\t 321shannonb & 455.00      & 23          &  86        \\\\\n",
       "\t 321shannonb & 485.00      & 24          &  86        \\\\\n",
       "\t 321shannonb & 420.00      & 25          &  86        \\\\\n",
       "\t 321shannonb & 460.00      & 28          &  86        \\\\\n",
       "\t 321shannonb & 440.00      & 32          &  86        \\\\\n",
       "\t 321shannonb & 470.00      & 33          &  86        \\\\\n",
       "\t 321shannonb & 455.00      & 17          &  86        \\\\\n",
       "\t 321shannonb & 450.00      & 18          &  86        \\\\\n",
       "\t 321shannonb & 455.00      & 18          &  86        \\\\\n",
       "\t 321shannonb & 460.00      & 19          &  86        \\\\\n",
       "\t 321shannonb & 465.00      & 20          &  86        \\\\\n",
       "\t 321shannonb & 450.00      & 26          &  86        \\\\\n",
       "\t 321shannonb & 465.00      & 27          &  86        \\\\\n",
       "\t 321shannonb & 465.00      & 29          &  86        \\\\\n",
       "\t 321shannonb & 470.00      & 33          &  86        \\\\\n",
       "\t 321shannonb & 470.00      & 33          &  86        \\\\\n",
       "\t 911\\_cenner  & 520.00        & 18            & 838          \\\\\n",
       "\t 911\\_cenner  & 500.00        & 31            & 838          \\\\\n",
       "\t 911\\_cenner  & 481.00        & 32            & 838          \\\\\n",
       "\t 911\\_cenner  & 471.00        & 35            & 838          \\\\\n",
       "\t 911\\_cenner  & 497.00        & 40            & 838          \\\\\n",
       "\t 911\\_cenner  & 500.00        & 40            & 838          \\\\\n",
       "\t 911\\_cenner  & 510.00        & 43            & 838          \\\\\n",
       "\t 911\\_cenner  & 480.00        & 45            & 838          \\\\\n",
       "\t abe-123     & 437.00      & 32          & 169        \\\\\n",
       "\t abe-123     & 495.00      & 33          & 169        \\\\\n",
       "\t ⋮ & ⋮ & ⋮ & ⋮\\\\\n",
       "\t yaylabeyim   & 490          & 22           & 189         \\\\\n",
       "\t yaylabeyim   & 461          & 23           & 189         \\\\\n",
       "\t yaylabeyim   & 430          & 24           & 189         \\\\\n",
       "\t yaylabeyim   & 485          & 25           & 189         \\\\\n",
       "\t yaylabeyim   & 490          & 26           & 189         \\\\\n",
       "\t yaylabeyim   & 455          & 27           & 189         \\\\\n",
       "\t yaylabeyim   & 495          & 27           & 189         \\\\\n",
       "\t yaylabeyim   & 460          & 28           & 189         \\\\\n",
       "\t yaylabeyim   & 465          & 28           & 189         \\\\\n",
       "\t yaylabeyim   & 450          & 30           & 189         \\\\\n",
       "\t yaylabeyim   & 460          & 30           & 189         \\\\\n",
       "\t yaylabeyim   & 485          & 30           & 189         \\\\\n",
       "\t yaylabeyim   & 480          & 31           & 189         \\\\\n",
       "\t yaylabeyim   & 488          & 31           & 189         \\\\\n",
       "\t yaylabeyim   & 470          & 32           & 189         \\\\\n",
       "\t yaylabeyim   & 475          & 32           & 189         \\\\\n",
       "\t yaylabeyim   & 502          & 32           & 189         \\\\\n",
       "\t yaylabeyim   & 443          & 34           & 189         \\\\\n",
       "\t yaylabeyim   & 450          & 36           & 189         \\\\\n",
       "\t yaylabeyim   & 465          & 38           & 189         \\\\\n",
       "\t yaylabeyim   & 425          & 39           & 189         \\\\\n",
       "\t yaylabeyim   & 471          & 39           & 189         \\\\\n",
       "\t zornlargent  & 451          & 18           & 225         \\\\\n",
       "\t zornlargent  & 457          & 24           & 225         \\\\\n",
       "\t zornlargent  & 511          & 25           & 225         \\\\\n",
       "\t zozocellular & 427          & 21           & 442         \\\\\n",
       "\t zozocellular & 495          & 22           & 442         \\\\\n",
       "\t zozocellular & 480          & 23           & 442         \\\\\n",
       "\t zozocellular & 445          & 32           & 442         \\\\\n",
       "\t zozocellular & 530          & 34           & 442         \\\\\n",
       "\\end{tabular}\n"
      ],
      "text/markdown": [
       "\n",
       "Seller.ID | Price | NumBids | SellRating | \n",
       "|---|---|---|---|---|---|---|---|---|---|---|---|---|---|---|---|---|---|---|---|---|---|---|---|---|---|---|---|---|---|---|---|---|---|---|---|---|---|---|---|---|---|---|---|---|---|---|---|---|---|---|---|---|---|---|---|---|---|---|---|---|\n",
       "| 321shannonb | 405.00      | 16          |  86         | \n",
       "| 321shannonb | 460.01      | 16          |  86         | \n",
       "| 321shannonb | 440.00      | 18          |  86         | \n",
       "| 321shannonb | 450.00      | 18          |  86         | \n",
       "| 321shannonb | 455.00      | 23          |  86         | \n",
       "| 321shannonb | 485.00      | 24          |  86         | \n",
       "| 321shannonb | 420.00      | 25          |  86         | \n",
       "| 321shannonb | 460.00      | 28          |  86         | \n",
       "| 321shannonb | 440.00      | 32          |  86         | \n",
       "| 321shannonb | 470.00      | 33          |  86         | \n",
       "| 321shannonb | 455.00      | 17          |  86         | \n",
       "| 321shannonb | 450.00      | 18          |  86         | \n",
       "| 321shannonb | 455.00      | 18          |  86         | \n",
       "| 321shannonb | 460.00      | 19          |  86         | \n",
       "| 321shannonb | 465.00      | 20          |  86         | \n",
       "| 321shannonb | 450.00      | 26          |  86         | \n",
       "| 321shannonb | 465.00      | 27          |  86         | \n",
       "| 321shannonb | 465.00      | 29          |  86         | \n",
       "| 321shannonb | 470.00      | 33          |  86         | \n",
       "| 321shannonb | 470.00      | 33          |  86         | \n",
       "| 911_cenner  | 520.00      | 18          | 838         | \n",
       "| 911_cenner  | 500.00      | 31          | 838         | \n",
       "| 911_cenner  | 481.00      | 32          | 838         | \n",
       "| 911_cenner  | 471.00      | 35          | 838         | \n",
       "| 911_cenner  | 497.00      | 40          | 838         | \n",
       "| 911_cenner  | 500.00      | 40          | 838         | \n",
       "| 911_cenner  | 510.00      | 43          | 838         | \n",
       "| 911_cenner  | 480.00      | 45          | 838         | \n",
       "| abe-123     | 437.00      | 32          | 169         | \n",
       "| abe-123     | 495.00      | 33          | 169         | \n",
       "| ⋮ | ⋮ | ⋮ | ⋮ | \n",
       "| yaylabeyim   | 490          | 22           | 189          | \n",
       "| yaylabeyim   | 461          | 23           | 189          | \n",
       "| yaylabeyim   | 430          | 24           | 189          | \n",
       "| yaylabeyim   | 485          | 25           | 189          | \n",
       "| yaylabeyim   | 490          | 26           | 189          | \n",
       "| yaylabeyim   | 455          | 27           | 189          | \n",
       "| yaylabeyim   | 495          | 27           | 189          | \n",
       "| yaylabeyim   | 460          | 28           | 189          | \n",
       "| yaylabeyim   | 465          | 28           | 189          | \n",
       "| yaylabeyim   | 450          | 30           | 189          | \n",
       "| yaylabeyim   | 460          | 30           | 189          | \n",
       "| yaylabeyim   | 485          | 30           | 189          | \n",
       "| yaylabeyim   | 480          | 31           | 189          | \n",
       "| yaylabeyim   | 488          | 31           | 189          | \n",
       "| yaylabeyim   | 470          | 32           | 189          | \n",
       "| yaylabeyim   | 475          | 32           | 189          | \n",
       "| yaylabeyim   | 502          | 32           | 189          | \n",
       "| yaylabeyim   | 443          | 34           | 189          | \n",
       "| yaylabeyim   | 450          | 36           | 189          | \n",
       "| yaylabeyim   | 465          | 38           | 189          | \n",
       "| yaylabeyim   | 425          | 39           | 189          | \n",
       "| yaylabeyim   | 471          | 39           | 189          | \n",
       "| zornlargent  | 451          | 18           | 225          | \n",
       "| zornlargent  | 457          | 24           | 225          | \n",
       "| zornlargent  | 511          | 25           | 225          | \n",
       "| zozocellular | 427          | 21           | 442          | \n",
       "| zozocellular | 495          | 22           | 442          | \n",
       "| zozocellular | 480          | 23           | 442          | \n",
       "| zozocellular | 445          | 32           | 442          | \n",
       "| zozocellular | 530          | 34           | 442          | \n",
       "\n",
       "\n"
      ],
      "text/plain": [
       "    Seller.ID    Price  NumBids SellRating\n",
       "1   321shannonb  405.00 16       86       \n",
       "2   321shannonb  460.01 16       86       \n",
       "3   321shannonb  440.00 18       86       \n",
       "4   321shannonb  450.00 18       86       \n",
       "5   321shannonb  455.00 23       86       \n",
       "6   321shannonb  485.00 24       86       \n",
       "7   321shannonb  420.00 25       86       \n",
       "8   321shannonb  460.00 28       86       \n",
       "9   321shannonb  440.00 32       86       \n",
       "10  321shannonb  470.00 33       86       \n",
       "11  321shannonb  455.00 17       86       \n",
       "12  321shannonb  450.00 18       86       \n",
       "13  321shannonb  455.00 18       86       \n",
       "14  321shannonb  460.00 19       86       \n",
       "15  321shannonb  465.00 20       86       \n",
       "16  321shannonb  450.00 26       86       \n",
       "17  321shannonb  465.00 27       86       \n",
       "18  321shannonb  465.00 29       86       \n",
       "19  321shannonb  470.00 33       86       \n",
       "20  321shannonb  470.00 33       86       \n",
       "21  911_cenner   520.00 18      838       \n",
       "22  911_cenner   500.00 31      838       \n",
       "23  911_cenner   481.00 32      838       \n",
       "24  911_cenner   471.00 35      838       \n",
       "25  911_cenner   497.00 40      838       \n",
       "26  911_cenner   500.00 40      838       \n",
       "27  911_cenner   510.00 43      838       \n",
       "28  911_cenner   480.00 45      838       \n",
       "29  abe-123      437.00 32      169       \n",
       "30  abe-123      495.00 33      169       \n",
       "⋮   ⋮            ⋮      ⋮       ⋮         \n",
       "897 yaylabeyim   490    22      189       \n",
       "898 yaylabeyim   461    23      189       \n",
       "899 yaylabeyim   430    24      189       \n",
       "900 yaylabeyim   485    25      189       \n",
       "901 yaylabeyim   490    26      189       \n",
       "902 yaylabeyim   455    27      189       \n",
       "903 yaylabeyim   495    27      189       \n",
       "904 yaylabeyim   460    28      189       \n",
       "905 yaylabeyim   465    28      189       \n",
       "906 yaylabeyim   450    30      189       \n",
       "907 yaylabeyim   460    30      189       \n",
       "908 yaylabeyim   485    30      189       \n",
       "909 yaylabeyim   480    31      189       \n",
       "910 yaylabeyim   488    31      189       \n",
       "911 yaylabeyim   470    32      189       \n",
       "912 yaylabeyim   475    32      189       \n",
       "913 yaylabeyim   502    32      189       \n",
       "914 yaylabeyim   443    34      189       \n",
       "915 yaylabeyim   450    36      189       \n",
       "916 yaylabeyim   465    38      189       \n",
       "917 yaylabeyim   425    39      189       \n",
       "918 yaylabeyim   471    39      189       \n",
       "919 zornlargent  451    18      225       \n",
       "920 zornlargent  457    24      225       \n",
       "921 zornlargent  511    25      225       \n",
       "922 zozocellular 427    21      442       \n",
       "923 zozocellular 495    22      442       \n",
       "924 zozocellular 480    23      442       \n",
       "925 zozocellular 445    32      442       \n",
       "926 zozocellular 530    34      442       "
      ]
     },
     "metadata": {},
     "output_type": "display_data"
    }
   ],
   "source": [
    "iphone"
   ]
  },
  {
   "cell_type": "code",
   "execution_count": 3,
   "metadata": {},
   "outputs": [],
   "source": [
    "attach(iphone)"
   ]
  },
  {
   "cell_type": "code",
   "execution_count": 28,
   "metadata": {},
   "outputs": [],
   "source": [
    "model<-lm(Price~NumBids*SellRating)"
   ]
  },
  {
   "cell_type": "code",
   "execution_count": 29,
   "metadata": {},
   "outputs": [
    {
     "data": {
      "text/plain": [
       "\n",
       "Call:\n",
       "lm(formula = Price ~ NumBids * SellRating)\n",
       "\n",
       "Residuals:\n",
       "     Min       1Q   Median       3Q      Max \n",
       "-119.981  -20.204   -1.032   18.388  141.848 \n",
       "\n",
       "Coefficients:\n",
       "                     Estimate Std. Error t value Pr(>|t|)    \n",
       "(Intercept)         4.544e+02  4.234e+00 107.324  < 2e-16 ***\n",
       "NumBids             6.188e-01  1.332e-01   4.644 3.91e-06 ***\n",
       "SellRating         -5.450e-03  3.592e-03  -1.517  0.12956    \n",
       "NumBids:SellRating  3.158e-04  1.165e-04   2.710  0.00685 ** \n",
       "---\n",
       "Signif. codes:  0 ‘***’ 0.001 ‘**’ 0.01 ‘*’ 0.05 ‘.’ 0.1 ‘ ’ 1\n",
       "\n",
       "Residual standard error: 33.64 on 922 degrees of freedom\n",
       "Multiple R-squared:  0.07719,\tAdjusted R-squared:  0.07419 \n",
       "F-statistic: 25.71 on 3 and 922 DF,  p-value: 5.63e-16\n"
      ]
     },
     "metadata": {},
     "output_type": "display_data"
    }
   ],
   "source": [
    "summary(model)"
   ]
  },
  {
   "cell_type": "markdown",
   "metadata": {},
   "source": [
    "## The interaction term is significant as p-value is less than 0.05\n",
    "## Model is not the best but good enough as Multiple R-Squared > 0.70"
   ]
  },
  {
   "cell_type": "code",
   "execution_count": 8,
   "metadata": {},
   "outputs": [],
   "source": [
    "number_of_sellers<-length(unique(Seller.ID))"
   ]
  },
  {
   "cell_type": "code",
   "execution_count": 9,
   "metadata": {},
   "outputs": [
    {
     "data": {
      "text/html": [
       "88"
      ],
      "text/latex": [
       "88"
      ],
      "text/markdown": [
       "88"
      ],
      "text/plain": [
       "[1] 88"
      ]
     },
     "metadata": {},
     "output_type": "display_data"
    }
   ],
   "source": [
    "number_of_sellers"
   ]
  },
  {
   "cell_type": "code",
   "execution_count": 48,
   "metadata": {},
   "outputs": [],
   "source": [
    "sellers<-levels(Seller.ID)"
   ]
  },
  {
   "cell_type": "code",
   "execution_count": 49,
   "metadata": {},
   "outputs": [],
   "source": [
    "slopes<-rep(NA, length(sellers))"
   ]
  },
  {
   "cell_type": "code",
   "execution_count": 50,
   "metadata": {},
   "outputs": [],
   "source": [
    "for(i in 1:number_of_sellers){\n",
    "    model1<-lm(Price~NumBids, subset(iphone,iphone$Seller.ID==sellers[i]))\n",
    "    results[i]<-coef(model1)[1]\n",
    "    slopes[i]<-model1$coefficients[2]\n",
    "}"
   ]
  },
  {
   "cell_type": "code",
   "execution_count": 68,
   "metadata": {},
   "outputs": [
    {
     "name": "stderr",
     "output_type": "stream",
     "text": [
      "Warning message in ratings[i] <- subset(iphone$SellRating, iphone$Seller.ID == sellers[i]):\n",
      "“number of items to replace is not a multiple of replacement length”Warning message in ratings[i] <- subset(iphone$SellRating, iphone$Seller.ID == sellers[i]):\n",
      "“number of items to replace is not a multiple of replacement length”Warning message in ratings[i] <- subset(iphone$SellRating, iphone$Seller.ID == sellers[i]):\n",
      "“number of items to replace is not a multiple of replacement length”Warning message in ratings[i] <- subset(iphone$SellRating, iphone$Seller.ID == sellers[i]):\n",
      "“number of items to replace is not a multiple of replacement length”Warning message in ratings[i] <- subset(iphone$SellRating, iphone$Seller.ID == sellers[i]):\n",
      "“number of items to replace is not a multiple of replacement length”Warning message in ratings[i] <- subset(iphone$SellRating, iphone$Seller.ID == sellers[i]):\n",
      "“number of items to replace is not a multiple of replacement length”Warning message in ratings[i] <- subset(iphone$SellRating, iphone$Seller.ID == sellers[i]):\n",
      "“number of items to replace is not a multiple of replacement length”Warning message in ratings[i] <- subset(iphone$SellRating, iphone$Seller.ID == sellers[i]):\n",
      "“number of items to replace is not a multiple of replacement length”Warning message in ratings[i] <- subset(iphone$SellRating, iphone$Seller.ID == sellers[i]):\n",
      "“number of items to replace is not a multiple of replacement length”Warning message in ratings[i] <- subset(iphone$SellRating, iphone$Seller.ID == sellers[i]):\n",
      "“number of items to replace is not a multiple of replacement length”Warning message in ratings[i] <- subset(iphone$SellRating, iphone$Seller.ID == sellers[i]):\n",
      "“number of items to replace is not a multiple of replacement length”Warning message in ratings[i] <- subset(iphone$SellRating, iphone$Seller.ID == sellers[i]):\n",
      "“number of items to replace is not a multiple of replacement length”Warning message in ratings[i] <- subset(iphone$SellRating, iphone$Seller.ID == sellers[i]):\n",
      "“number of items to replace is not a multiple of replacement length”Warning message in ratings[i] <- subset(iphone$SellRating, iphone$Seller.ID == sellers[i]):\n",
      "“number of items to replace is not a multiple of replacement length”Warning message in ratings[i] <- subset(iphone$SellRating, iphone$Seller.ID == sellers[i]):\n",
      "“number of items to replace is not a multiple of replacement length”Warning message in ratings[i] <- subset(iphone$SellRating, iphone$Seller.ID == sellers[i]):\n",
      "“number of items to replace is not a multiple of replacement length”Warning message in ratings[i] <- subset(iphone$SellRating, iphone$Seller.ID == sellers[i]):\n",
      "“number of items to replace is not a multiple of replacement length”Warning message in ratings[i] <- subset(iphone$SellRating, iphone$Seller.ID == sellers[i]):\n",
      "“number of items to replace is not a multiple of replacement length”Warning message in ratings[i] <- subset(iphone$SellRating, iphone$Seller.ID == sellers[i]):\n",
      "“number of items to replace is not a multiple of replacement length”Warning message in ratings[i] <- subset(iphone$SellRating, iphone$Seller.ID == sellers[i]):\n",
      "“number of items to replace is not a multiple of replacement length”Warning message in ratings[i] <- subset(iphone$SellRating, iphone$Seller.ID == sellers[i]):\n",
      "“number of items to replace is not a multiple of replacement length”Warning message in ratings[i] <- subset(iphone$SellRating, iphone$Seller.ID == sellers[i]):\n",
      "“number of items to replace is not a multiple of replacement length”Warning message in ratings[i] <- subset(iphone$SellRating, iphone$Seller.ID == sellers[i]):\n",
      "“number of items to replace is not a multiple of replacement length”Warning message in ratings[i] <- subset(iphone$SellRating, iphone$Seller.ID == sellers[i]):\n",
      "“number of items to replace is not a multiple of replacement length”Warning message in ratings[i] <- subset(iphone$SellRating, iphone$Seller.ID == sellers[i]):\n",
      "“number of items to replace is not a multiple of replacement length”Warning message in ratings[i] <- subset(iphone$SellRating, iphone$Seller.ID == sellers[i]):\n",
      "“number of items to replace is not a multiple of replacement length”Warning message in ratings[i] <- subset(iphone$SellRating, iphone$Seller.ID == sellers[i]):\n",
      "“number of items to replace is not a multiple of replacement length”Warning message in ratings[i] <- subset(iphone$SellRating, iphone$Seller.ID == sellers[i]):\n",
      "“number of items to replace is not a multiple of replacement length”Warning message in ratings[i] <- subset(iphone$SellRating, iphone$Seller.ID == sellers[i]):\n",
      "“number of items to replace is not a multiple of replacement length”Warning message in ratings[i] <- subset(iphone$SellRating, iphone$Seller.ID == sellers[i]):\n",
      "“number of items to replace is not a multiple of replacement length”Warning message in ratings[i] <- subset(iphone$SellRating, iphone$Seller.ID == sellers[i]):\n",
      "“number of items to replace is not a multiple of replacement length”Warning message in ratings[i] <- subset(iphone$SellRating, iphone$Seller.ID == sellers[i]):\n",
      "“number of items to replace is not a multiple of replacement length”Warning message in ratings[i] <- subset(iphone$SellRating, iphone$Seller.ID == sellers[i]):\n",
      "“number of items to replace is not a multiple of replacement length”Warning message in ratings[i] <- subset(iphone$SellRating, iphone$Seller.ID == sellers[i]):\n",
      "“number of items to replace is not a multiple of replacement length”Warning message in ratings[i] <- subset(iphone$SellRating, iphone$Seller.ID == sellers[i]):\n",
      "“number of items to replace is not a multiple of replacement length”Warning message in ratings[i] <- subset(iphone$SellRating, iphone$Seller.ID == sellers[i]):\n",
      "“number of items to replace is not a multiple of replacement length”Warning message in ratings[i] <- subset(iphone$SellRating, iphone$Seller.ID == sellers[i]):\n",
      "“number of items to replace is not a multiple of replacement length”Warning message in ratings[i] <- subset(iphone$SellRating, iphone$Seller.ID == sellers[i]):\n",
      "“number of items to replace is not a multiple of replacement length”Warning message in ratings[i] <- subset(iphone$SellRating, iphone$Seller.ID == sellers[i]):\n",
      "“number of items to replace is not a multiple of replacement length”Warning message in ratings[i] <- subset(iphone$SellRating, iphone$Seller.ID == sellers[i]):\n",
      "“number of items to replace is not a multiple of replacement length”Warning message in ratings[i] <- subset(iphone$SellRating, iphone$Seller.ID == sellers[i]):\n",
      "“number of items to replace is not a multiple of replacement length”Warning message in ratings[i] <- subset(iphone$SellRating, iphone$Seller.ID == sellers[i]):\n",
      "“number of items to replace is not a multiple of replacement length”Warning message in ratings[i] <- subset(iphone$SellRating, iphone$Seller.ID == sellers[i]):\n",
      "“number of items to replace is not a multiple of replacement length”Warning message in ratings[i] <- subset(iphone$SellRating, iphone$Seller.ID == sellers[i]):\n",
      "“number of items to replace is not a multiple of replacement length”Warning message in ratings[i] <- subset(iphone$SellRating, iphone$Seller.ID == sellers[i]):\n",
      "“number of items to replace is not a multiple of replacement length”Warning message in ratings[i] <- subset(iphone$SellRating, iphone$Seller.ID == sellers[i]):\n",
      "“number of items to replace is not a multiple of replacement length”Warning message in ratings[i] <- subset(iphone$SellRating, iphone$Seller.ID == sellers[i]):\n",
      "“number of items to replace is not a multiple of replacement length”Warning message in ratings[i] <- subset(iphone$SellRating, iphone$Seller.ID == sellers[i]):\n",
      "“number of items to replace is not a multiple of replacement length”Warning message in ratings[i] <- subset(iphone$SellRating, iphone$Seller.ID == sellers[i]):\n",
      "“number of items to replace is not a multiple of replacement length”Warning message in ratings[i] <- subset(iphone$SellRating, iphone$Seller.ID == sellers[i]):\n",
      "“number of items to replace is not a multiple of replacement length”Warning message in ratings[i] <- subset(iphone$SellRating, iphone$Seller.ID == sellers[i]):\n",
      "“number of items to replace is not a multiple of replacement length”Warning message in ratings[i] <- subset(iphone$SellRating, iphone$Seller.ID == sellers[i]):\n"
     ]
    },
    {
     "name": "stderr",
     "output_type": "stream",
     "text": [
      "“number of items to replace is not a multiple of replacement length”Warning message in ratings[i] <- subset(iphone$SellRating, iphone$Seller.ID == sellers[i]):\n",
      "“number of items to replace is not a multiple of replacement length”Warning message in ratings[i] <- subset(iphone$SellRating, iphone$Seller.ID == sellers[i]):\n",
      "“number of items to replace is not a multiple of replacement length”Warning message in ratings[i] <- subset(iphone$SellRating, iphone$Seller.ID == sellers[i]):\n",
      "“number of items to replace is not a multiple of replacement length”Warning message in ratings[i] <- subset(iphone$SellRating, iphone$Seller.ID == sellers[i]):\n",
      "“number of items to replace is not a multiple of replacement length”Warning message in ratings[i] <- subset(iphone$SellRating, iphone$Seller.ID == sellers[i]):\n",
      "“number of items to replace is not a multiple of replacement length”Warning message in ratings[i] <- subset(iphone$SellRating, iphone$Seller.ID == sellers[i]):\n",
      "“number of items to replace is not a multiple of replacement length”Warning message in ratings[i] <- subset(iphone$SellRating, iphone$Seller.ID == sellers[i]):\n",
      "“number of items to replace is not a multiple of replacement length”Warning message in ratings[i] <- subset(iphone$SellRating, iphone$Seller.ID == sellers[i]):\n",
      "“number of items to replace is not a multiple of replacement length”Warning message in ratings[i] <- subset(iphone$SellRating, iphone$Seller.ID == sellers[i]):\n",
      "“number of items to replace is not a multiple of replacement length”Warning message in ratings[i] <- subset(iphone$SellRating, iphone$Seller.ID == sellers[i]):\n",
      "“number of items to replace is not a multiple of replacement length”Warning message in ratings[i] <- subset(iphone$SellRating, iphone$Seller.ID == sellers[i]):\n",
      "“number of items to replace is not a multiple of replacement length”Warning message in ratings[i] <- subset(iphone$SellRating, iphone$Seller.ID == sellers[i]):\n",
      "“number of items to replace is not a multiple of replacement length”Warning message in ratings[i] <- subset(iphone$SellRating, iphone$Seller.ID == sellers[i]):\n",
      "“number of items to replace is not a multiple of replacement length”Warning message in ratings[i] <- subset(iphone$SellRating, iphone$Seller.ID == sellers[i]):\n",
      "“number of items to replace is not a multiple of replacement length”Warning message in ratings[i] <- subset(iphone$SellRating, iphone$Seller.ID == sellers[i]):\n",
      "“number of items to replace is not a multiple of replacement length”Warning message in ratings[i] <- subset(iphone$SellRating, iphone$Seller.ID == sellers[i]):\n",
      "“number of items to replace is not a multiple of replacement length”Warning message in ratings[i] <- subset(iphone$SellRating, iphone$Seller.ID == sellers[i]):\n",
      "“number of items to replace is not a multiple of replacement length”Warning message in ratings[i] <- subset(iphone$SellRating, iphone$Seller.ID == sellers[i]):\n",
      "“number of items to replace is not a multiple of replacement length”Warning message in ratings[i] <- subset(iphone$SellRating, iphone$Seller.ID == sellers[i]):\n",
      "“number of items to replace is not a multiple of replacement length”Warning message in ratings[i] <- subset(iphone$SellRating, iphone$Seller.ID == sellers[i]):\n",
      "“number of items to replace is not a multiple of replacement length”Warning message in ratings[i] <- subset(iphone$SellRating, iphone$Seller.ID == sellers[i]):\n",
      "“number of items to replace is not a multiple of replacement length”Warning message in ratings[i] <- subset(iphone$SellRating, iphone$Seller.ID == sellers[i]):\n",
      "“number of items to replace is not a multiple of replacement length”Warning message in ratings[i] <- subset(iphone$SellRating, iphone$Seller.ID == sellers[i]):\n",
      "“number of items to replace is not a multiple of replacement length”Warning message in ratings[i] <- subset(iphone$SellRating, iphone$Seller.ID == sellers[i]):\n",
      "“number of items to replace is not a multiple of replacement length”Warning message in ratings[i] <- subset(iphone$SellRating, iphone$Seller.ID == sellers[i]):\n",
      "“number of items to replace is not a multiple of replacement length”Warning message in ratings[i] <- subset(iphone$SellRating, iphone$Seller.ID == sellers[i]):\n",
      "“number of items to replace is not a multiple of replacement length”Warning message in ratings[i] <- subset(iphone$SellRating, iphone$Seller.ID == sellers[i]):\n",
      "“number of items to replace is not a multiple of replacement length”Warning message in ratings[i] <- subset(iphone$SellRating, iphone$Seller.ID == sellers[i]):\n",
      "“number of items to replace is not a multiple of replacement length”Warning message in ratings[i] <- subset(iphone$SellRating, iphone$Seller.ID == sellers[i]):\n",
      "“number of items to replace is not a multiple of replacement length”Warning message in ratings[i] <- subset(iphone$SellRating, iphone$Seller.ID == sellers[i]):\n",
      "“number of items to replace is not a multiple of replacement length”Warning message in ratings[i] <- subset(iphone$SellRating, iphone$Seller.ID == sellers[i]):\n",
      "“number of items to replace is not a multiple of replacement length”Warning message in ratings[i] <- subset(iphone$SellRating, iphone$Seller.ID == sellers[i]):\n",
      "“number of items to replace is not a multiple of replacement length”Warning message in ratings[i] <- subset(iphone$SellRating, iphone$Seller.ID == sellers[i]):\n",
      "“number of items to replace is not a multiple of replacement length”Warning message in ratings[i] <- subset(iphone$SellRating, iphone$Seller.ID == sellers[i]):\n",
      "“number of items to replace is not a multiple of replacement length”Warning message in ratings[i] <- subset(iphone$SellRating, iphone$Seller.ID == sellers[i]):\n",
      "“number of items to replace is not a multiple of replacement length”Warning message in ratings[i] <- subset(iphone$SellRating, iphone$Seller.ID == sellers[i]):\n",
      "“number of items to replace is not a multiple of replacement length”"
     ]
    }
   ],
   "source": [
    "for(i in 1:number_of_sellers){\n",
    "    ratings[i]<-subset(iphone$SellRating, iphone$Seller.ID==sellers[i])\n",
    "}"
   ]
  },
  {
   "cell_type": "code",
   "execution_count": 70,
   "metadata": {},
   "outputs": [
    {
     "data": {
      "text/html": [
       "88"
      ],
      "text/latex": [
       "88"
      ],
      "text/markdown": [
       "88"
      ],
      "text/plain": [
       "[1] 88"
      ]
     },
     "metadata": {},
     "output_type": "display_data"
    }
   ],
   "source": [
    "length(ratings)"
   ]
  },
  {
   "cell_type": "code",
   "execution_count": 71,
   "metadata": {},
   "outputs": [],
   "source": [
    "new<-cbind(results, ratings)"
   ]
  },
  {
   "cell_type": "code",
   "execution_count": 72,
   "metadata": {},
   "outputs": [],
   "source": [
    "out<-cbind(slopes, ratings)"
   ]
  },
  {
   "cell_type": "code",
   "execution_count": 76,
   "metadata": {},
   "outputs": [],
   "source": [
    "models_intercept<-lm(results~ratings)"
   ]
  },
  {
   "cell_type": "code",
   "execution_count": 85,
   "metadata": {},
   "outputs": [],
   "source": [
    "models_slopes<-lm(slopes~ratings)"
   ]
  },
  {
   "cell_type": "code",
   "execution_count": 86,
   "metadata": {},
   "outputs": [
    {
     "data": {
      "text/plain": [
       "\n",
       "Call:\n",
       "lm(formula = results ~ ratings)\n",
       "\n",
       "Residuals:\n",
       "     Min       1Q   Median       3Q      Max \n",
       "-208.725  -24.782    0.764   27.100  286.800 \n",
       "\n",
       "Coefficients:\n",
       "              Estimate Std. Error t value Pr(>|t|)    \n",
       "(Intercept) 452.611661   7.124485  63.529   <2e-16 ***\n",
       "ratings      -0.001090   0.005798  -0.188    0.851    \n",
       "---\n",
       "Signif. codes:  0 ‘***’ 0.001 ‘**’ 0.01 ‘*’ 0.05 ‘.’ 0.1 ‘ ’ 1\n",
       "\n",
       "Residual standard error: 58.58 on 86 degrees of freedom\n",
       "Multiple R-squared:  0.000411,\tAdjusted R-squared:  -0.01121 \n",
       "F-statistic: 0.03536 on 1 and 86 DF,  p-value: 0.8513\n"
      ]
     },
     "metadata": {},
     "output_type": "display_data"
    }
   ],
   "source": [
    "summary(models_intercept)"
   ]
  },
  {
   "cell_type": "code",
   "execution_count": 87,
   "metadata": {},
   "outputs": [
    {
     "data": {
      "text/plain": [
       "\n",
       "Call:\n",
       "lm(formula = slopes ~ ratings)\n",
       "\n",
       "Residuals:\n",
       "     Min       1Q   Median       3Q      Max \n",
       "-10.0653  -0.8024  -0.0611   0.6083   7.3629 \n",
       "\n",
       "Coefficients:\n",
       "             Estimate Std. Error t value Pr(>|t|)  \n",
       "(Intercept) 0.5241502  0.2277259   2.302   0.0238 *\n",
       "ratings     0.0001097  0.0001853   0.592   0.5556  \n",
       "---\n",
       "Signif. codes:  0 ‘***’ 0.001 ‘**’ 0.01 ‘*’ 0.05 ‘.’ 0.1 ‘ ’ 1\n",
       "\n",
       "Residual standard error: 1.872 on 86 degrees of freedom\n",
       "Multiple R-squared:  0.004054,\tAdjusted R-squared:  -0.007527 \n",
       "F-statistic: 0.3501 on 1 and 86 DF,  p-value: 0.5556\n"
      ]
     },
     "metadata": {},
     "output_type": "display_data"
    }
   ],
   "source": [
    "summary(models_slopes)"
   ]
  },
  {
   "cell_type": "markdown",
   "metadata": {},
   "source": [
    "## Seller Ratings is not significant in both the models"
   ]
  },
  {
   "cell_type": "code",
   "execution_count": 80,
   "metadata": {},
   "outputs": [
    {
     "data": {
      "text/html": [
       "9145.00725641859"
      ],
      "text/latex": [
       "9145.00725641859"
      ],
      "text/markdown": [
       "9145.00725641859"
      ],
      "text/plain": [
       "[1] 9145.007"
      ]
     },
     "metadata": {},
     "output_type": "display_data"
    }
   ],
   "source": [
    "AIC(model)"
   ]
  },
  {
   "cell_type": "code",
   "execution_count": 88,
   "metadata": {},
   "outputs": [
    {
     "data": {
      "text/html": [
       "970.100569937807"
      ],
      "text/latex": [
       "970.100569937807"
      ],
      "text/markdown": [
       "970.100569937807"
      ],
      "text/plain": [
       "[1] 970.1006"
      ]
     },
     "metadata": {},
     "output_type": "display_data"
    }
   ],
   "source": [
    "AIC(models_intercept)"
   ]
  },
  {
   "cell_type": "code",
   "execution_count": 89,
   "metadata": {},
   "outputs": [
    {
     "data": {
      "text/html": [
       "364.106170986678"
      ],
      "text/latex": [
       "364.106170986678"
      ],
      "text/markdown": [
       "364.106170986678"
      ],
      "text/plain": [
       "[1] 364.1062"
      ]
     },
     "metadata": {},
     "output_type": "display_data"
    }
   ],
   "source": [
    "AIC(models_slopes)"
   ]
  },
  {
   "cell_type": "code",
   "execution_count": 90,
   "metadata": {},
   "outputs": [],
   "source": [
    "library(nlme)"
   ]
  },
  {
   "cell_type": "code",
   "execution_count": 91,
   "metadata": {},
   "outputs": [
    {
     "data": {
      "text/plain": [
       "\n",
       "Call:\n",
       "glm(formula = Price ~ NumBids * SellRating, data = iphone)\n",
       "\n",
       "Deviance Residuals: \n",
       "     Min        1Q    Median        3Q       Max  \n",
       "-119.981   -20.204    -1.032    18.388   141.848  \n",
       "\n",
       "Coefficients:\n",
       "                     Estimate Std. Error t value Pr(>|t|)    \n",
       "(Intercept)         4.544e+02  4.234e+00 107.324  < 2e-16 ***\n",
       "NumBids             6.188e-01  1.332e-01   4.644 3.91e-06 ***\n",
       "SellRating         -5.450e-03  3.592e-03  -1.517  0.12956    \n",
       "NumBids:SellRating  3.158e-04  1.165e-04   2.710  0.00685 ** \n",
       "---\n",
       "Signif. codes:  0 ‘***’ 0.001 ‘**’ 0.01 ‘*’ 0.05 ‘.’ 0.1 ‘ ’ 1\n",
       "\n",
       "(Dispersion parameter for gaussian family taken to be 1131.694)\n",
       "\n",
       "    Null deviance: 1130702  on 925  degrees of freedom\n",
       "Residual deviance: 1043422  on 922  degrees of freedom\n",
       "AIC: 9145\n",
       "\n",
       "Number of Fisher Scoring iterations: 2\n"
      ]
     },
     "metadata": {},
     "output_type": "display_data"
    }
   ],
   "source": [
    "model_glm<-glm(Price~NumBids*SellRating, data=iphone)\n",
    "summary(model_glm)"
   ]
  },
  {
   "cell_type": "markdown",
   "metadata": {},
   "source": [
    "## Seller Rating is not significant in this model as well."
   ]
  },
  {
   "cell_type": "markdown",
   "metadata": {},
   "source": [
    "## Comparison of various models"
   ]
  },
  {
   "cell_type": "markdown",
   "metadata": {},
   "source": [
    "<img src=\"Screen Shot 2018-04-19 at 2.57.19 PM.png\">"
   ]
  },
  {
   "cell_type": "markdown",
   "metadata": {},
   "source": [
    "## Model_Intercept is the best fit among three as AIC is the least."
   ]
  },
  {
   "cell_type": "code",
   "execution_count": null,
   "metadata": {},
   "outputs": [],
   "source": []
  }
 ],
 "metadata": {
  "kernelspec": {
   "display_name": "R",
   "language": "R",
   "name": "ir"
  },
  "language_info": {
   "codemirror_mode": "r",
   "file_extension": ".r",
   "mimetype": "text/x-r-source",
   "name": "R",
   "pygments_lexer": "r",
   "version": "3.4.3"
  }
 },
 "nbformat": 4,
 "nbformat_minor": 2
}
